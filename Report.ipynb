{
 "cells": [
  {
   "cell_type": "markdown",
   "id": "011deed2",
   "metadata": {},
   "source": [
    "Exploratory data analysis of the census dataset.\n",
    "\n",
    "The dataset was given as csv document, it contains the statistics of a mock census carried out in an imaginary modest town. It was randomly genarated by the python faker package and the entire data was generated in a similar manner to the 1881 census of the UK where in only a few questions were asked of the population. The fields that were recorded include:\n",
    "1. Street Number ( Where '1' signifies unique dwelling)\n",
    "2. Street Name\n",
    "3. First Name of occupant\n",
    "4. Surname of occupant \n",
    "5. Age of occcupant\n",
    "6. Relationship to the head of the household (anyone over 18 can be a 'head'- they are simply the person who had the responsibilty to fill in the census details)\n",
    "7. Marital status (one of: single, Married, Divorced, Widowed, or \"NA\" in the case of minors):\n",
    "8. Gender (one of: Male, Female, the other responses were not implemented in 1881 )\n",
    "9. Occupation (This field was implemented in a modern style, rather than typical 1881 occupations)\n",
    "10. infirmity(limited sets of infirmities were implemented according to 1881 style)\n",
    "11. Religion(Implementations of real world religions)\n",
    "\n",
    "       The answers to the questions in the above fields were recorded, these fields constitute the columns of this dataset. The dataset originally has 11 columns and 10083 rows. The datatype of the above columns are all objects except the index column which contains the house numbers and has a int64 datatype."
   ]
  },
  {
   "cell_type": "markdown",
   "id": "bfdb3840",
   "metadata": {},
   "source": [
    "DATA CLEANING"
   ]
  },
  {
   "cell_type": "markdown",
   "id": "27b808e6",
   "metadata": {},
   "source": [
    "  Data cleaning helps in detecting and organizing data to make it uniform and ready for analysis.The data cleaning usually comes after the exploration of the dataset but data cleaning is never a one way process, as the analysis goes on,when irregularities are detected in the data, the data is cleaned at that point. In this report, we will be performing the exploratory analysis and cleaning of the data simultaeneously.\n",
    "  The approach for the exploration is univariate analysis, that is, exploring each of the columns independently and for columns which are greatly dependent on other columns for extraction of reasonable patterns, bivariate and multi-variate analysis will be also employed."
   ]
  },
  {
   "cell_type": "markdown",
   "id": "55460d96",
   "metadata": {},
   "source": [
    "Below, are the columns of the dataset and the data type of each column"
   ]
  },
  {
   "cell_type": "code",
   "execution_count": 7,
   "id": "f2f4451b",
   "metadata": {},
   "outputs": [
    {
     "name": "stdout",
     "output_type": "stream",
     "text": [
      "<class 'pandas.core.frame.DataFrame'>\n",
      "RangeIndex: 10083 entries, 0 to 10082\n",
      "Data columns (total 11 columns):\n",
      " #   Column                         Non-Null Count  Dtype \n",
      "---  ------                         --------------  ----- \n",
      " 0   House Number                   10083 non-null  int64 \n",
      " 1   Street                         10083 non-null  object\n",
      " 2   First Name                     10083 non-null  object\n",
      " 3   Surname                        10083 non-null  object\n",
      " 4   Age                            10083 non-null  object\n",
      " 5   Relationship to Head of House  10083 non-null  object\n",
      " 6   Marital Status                 7526 non-null   object\n",
      " 7   Gender                         10083 non-null  object\n",
      " 8   Occupation                     10083 non-null  object\n",
      " 9   Infirmity                      10083 non-null  object\n",
      " 10  Religion                       7463 non-null   object\n",
      "dtypes: int64(1), object(10)\n",
      "memory usage: 866.6+ KB\n"
     ]
    }
   ],
   "source": [
    "# importing useful libraries \n",
    "import pandas as pd \n",
    "import numpy as np\n",
    "import seaborn as sb\n",
    "import matplotlib.pyplot as plt \n",
    "import re\n",
    "\n",
    "\n",
    "%matplotlib inline \n",
    "\n",
    "census = pd.read_csv(r'C:\\Users\\Laptop\\Downloads\\census.csv')\n",
    "\n",
    "census\n",
    "\n",
    "census.sample(20)\n",
    "\n",
    "census.columns\n",
    "\n",
    "census.info()"
   ]
  },
  {
   "cell_type": "markdown",
   "id": "67d8d52e",
   "metadata": {},
   "source": [
    "The  Marital  status  column and the religion column contained null values. These null values were replaced with the 'none' string. During further analysis in  the subsequent section, individuals above 18 with the marital status,'none' will be filtered and their marital status  changed to single. Similarly, in the religion column there were four unusual entries namely 'Sith','House keeper','undecided' and 'Nope', it is clear that these entries were either entered as jokes or as mistakes, they were dropped from the dataset."
   ]
  },
  {
   "cell_type": "markdown",
   "id": "b428ee71",
   "metadata": {},
   "source": [
    "Outliers were detected in the Age column, they were detected visually using the box plots and statistically, using the IQR method. These outliers weren't removed because of the context and purpose of the analysis. Most of the unique values in the age column were in varrying decimal points. The values in the columns were rounded to single integers after the datatype of the column was converted to the float datatype."
   ]
  },
  {
   "cell_type": "markdown",
   "id": "6e7f0062",
   "metadata": {},
   "source": [
    "## Plot of the Age column showing the outliers"
   ]
  },
  {
   "cell_type": "code",
   "execution_count": 13,
   "id": "962e65b7",
   "metadata": {},
   "outputs": [
    {
     "data": {
      "image/png": "[encoded data removed]",
      "text/plain": [
       "<Figure size 1500x1000 with 1 Axes>"
      ]
     },
     "metadata": {},
     "output_type": "display_data"
    }
   ],
   "source": [
    "census = census[(census['Age'] !=' ') & (census['Age'] != 0)]\n",
    "\n",
    "census[\"Age\"] = census[\"Age\"].astype(\"float64\")\n",
    "census[\"Age\"] = census[\"Age\"].round()\n",
    "census['Age'] = census['Age'].astype('int64')\n",
    "census = census[census['Age'] != 0]\n",
    "# Detecting the outliers using boxplot\n",
    "# Create a boxplot of the age column\n",
    "plt.figure(figsize=(15,10))\n",
    "plt.title('Box plot showing outliers in Age column')\n",
    "sb.boxplot(x=census['Age'])\n",
    "\n",
    "# Show the plot\n",
    "plt.show()"
   ]
  },
  {
   "cell_type": "markdown",
   "id": "1e50099f",
   "metadata": {},
   "source": [
    "## Outliers in the age column, using the IQR method\n"
   ]
  },
  {
   "cell_type": "code",
   "execution_count": 15,
   "id": "864fa418",
   "metadata": {},
   "outputs": [
    {
     "data": {
      "text/html": [
       "<div>\n",
       "<style scoped>\n",
       "    .dataframe tbody tr th:only-of-type {\n",
       "        vertical-align: middle;\n",
       "    }\n",
       "\n",
       "    .dataframe tbody tr th {\n",
       "        vertical-align: top;\n",
       "    }\n",
       "\n",
       "    .dataframe thead th {\n",
       "        text-align: right;\n",
       "    }\n",
       "</style>\n",
       "<table border=\"1\" class=\"dataframe\">\n",
       "  <thead>\n",
       "    <tr style=\"text-align: right;\">\n",
       "      <th></th>\n",
       "      <th>House Number</th>\n",
       "      <th>Street</th>\n",
       "      <th>First Name</th>\n",
       "      <th>Surname</th>\n",
       "      <th>Age</th>\n",
       "      <th>Relationship to Head of House</th>\n",
       "      <th>Marital Status</th>\n",
       "      <th>Gender</th>\n",
       "      <th>Occupation</th>\n",
       "      <th>Infirmity</th>\n",
       "      <th>Religion</th>\n",
       "    </tr>\n",
       "  </thead>\n",
       "  <tbody>\n",
       "    <tr>\n",
       "      <th>307</th>\n",
       "      <td>58</td>\n",
       "      <td>Andrews Avenue</td>\n",
       "      <td>Catherine</td>\n",
       "      <td>Griffin</td>\n",
       "      <td>102</td>\n",
       "      <td>Head</td>\n",
       "      <td>Widowed</td>\n",
       "      <td>Female</td>\n",
       "      <td>Retired Editor, film/video</td>\n",
       "      <td>None</td>\n",
       "      <td>Christian</td>\n",
       "    </tr>\n",
       "    <tr>\n",
       "      <th>1709</th>\n",
       "      <td>59</td>\n",
       "      <td>O'Brien Gateway</td>\n",
       "      <td>Ricky</td>\n",
       "      <td>Thomas</td>\n",
       "      <td>101</td>\n",
       "      <td>Head</td>\n",
       "      <td>Married</td>\n",
       "      <td>Male</td>\n",
       "      <td>Retired Immunologist</td>\n",
       "      <td>None</td>\n",
       "      <td>Christian</td>\n",
       "    </tr>\n",
       "    <tr>\n",
       "      <th>1710</th>\n",
       "      <td>59</td>\n",
       "      <td>O'Brien Gateway</td>\n",
       "      <td>Vanessa</td>\n",
       "      <td>Thomas</td>\n",
       "      <td>104</td>\n",
       "      <td>Wife</td>\n",
       "      <td>Married</td>\n",
       "      <td>Female</td>\n",
       "      <td>Retired Garment/textile technologist</td>\n",
       "      <td>None</td>\n",
       "      <td>Methodist</td>\n",
       "    </tr>\n",
       "    <tr>\n",
       "      <th>1884</th>\n",
       "      <td>24</td>\n",
       "      <td>ExcaliburBells Heights</td>\n",
       "      <td>Samuel</td>\n",
       "      <td>Griffiths</td>\n",
       "      <td>100</td>\n",
       "      <td>Husband</td>\n",
       "      <td>Married</td>\n",
       "      <td>Male</td>\n",
       "      <td>Retired Electrical engineer</td>\n",
       "      <td>None</td>\n",
       "      <td>None</td>\n",
       "    </tr>\n",
       "    <tr>\n",
       "      <th>2341</th>\n",
       "      <td>56</td>\n",
       "      <td>Lightning Street</td>\n",
       "      <td>Carly</td>\n",
       "      <td>Mistry</td>\n",
       "      <td>104</td>\n",
       "      <td>Head</td>\n",
       "      <td>Married</td>\n",
       "      <td>Female</td>\n",
       "      <td>Retired Personal assistant</td>\n",
       "      <td>None</td>\n",
       "      <td>Christian</td>\n",
       "    </tr>\n",
       "    <tr>\n",
       "      <th>2342</th>\n",
       "      <td>56</td>\n",
       "      <td>Lightning Street</td>\n",
       "      <td>Malcolm</td>\n",
       "      <td>Mistry</td>\n",
       "      <td>105</td>\n",
       "      <td>Husband</td>\n",
       "      <td>Married</td>\n",
       "      <td>Male</td>\n",
       "      <td>Retired Intelligence analyst</td>\n",
       "      <td>None</td>\n",
       "      <td>None</td>\n",
       "    </tr>\n",
       "    <tr>\n",
       "      <th>4169</th>\n",
       "      <td>47</td>\n",
       "      <td>Shepherd Cove</td>\n",
       "      <td>Abbie</td>\n",
       "      <td>Scott</td>\n",
       "      <td>103</td>\n",
       "      <td>Head</td>\n",
       "      <td>Single</td>\n",
       "      <td>Female</td>\n",
       "      <td>Retired Film/video editor</td>\n",
       "      <td>None</td>\n",
       "      <td>None</td>\n",
       "    </tr>\n",
       "    <tr>\n",
       "      <th>4826</th>\n",
       "      <td>154</td>\n",
       "      <td>Shepherd Cove</td>\n",
       "      <td>Jodie</td>\n",
       "      <td>Daly</td>\n",
       "      <td>108</td>\n",
       "      <td>Head</td>\n",
       "      <td>Married</td>\n",
       "      <td>Female</td>\n",
       "      <td>Retired Minerals surveyor</td>\n",
       "      <td>None</td>\n",
       "      <td>Christian</td>\n",
       "    </tr>\n",
       "    <tr>\n",
       "      <th>4827</th>\n",
       "      <td>154</td>\n",
       "      <td>Shepherd Cove</td>\n",
       "      <td>Leslie</td>\n",
       "      <td>Daly</td>\n",
       "      <td>108</td>\n",
       "      <td>Husband</td>\n",
       "      <td>Married</td>\n",
       "      <td>Male</td>\n",
       "      <td>Retired Designer, furniture</td>\n",
       "      <td>None</td>\n",
       "      <td>Christian</td>\n",
       "    </tr>\n",
       "    <tr>\n",
       "      <th>5913</th>\n",
       "      <td>167</td>\n",
       "      <td>September Street</td>\n",
       "      <td>Harry</td>\n",
       "      <td>James</td>\n",
       "      <td>99</td>\n",
       "      <td>Husband</td>\n",
       "      <td>Married</td>\n",
       "      <td>Male</td>\n",
       "      <td>Retired Chief of Staff</td>\n",
       "      <td>None</td>\n",
       "      <td>Christian</td>\n",
       "    </tr>\n",
       "    <tr>\n",
       "      <th>6912</th>\n",
       "      <td>26</td>\n",
       "      <td>Hobbs Branch</td>\n",
       "      <td>Cameron</td>\n",
       "      <td>Wilson</td>\n",
       "      <td>100</td>\n",
       "      <td>Husband</td>\n",
       "      <td>Married</td>\n",
       "      <td>Male</td>\n",
       "      <td>Retired Engineer, aeronautical</td>\n",
       "      <td>None</td>\n",
       "      <td>None</td>\n",
       "    </tr>\n",
       "    <tr>\n",
       "      <th>7371</th>\n",
       "      <td>16</td>\n",
       "      <td>Oxford Avenue</td>\n",
       "      <td>Nigel</td>\n",
       "      <td>Stewart</td>\n",
       "      <td>102</td>\n",
       "      <td>Head</td>\n",
       "      <td>Married</td>\n",
       "      <td>Male</td>\n",
       "      <td>Retired Armed forces logistics/support/adminis...</td>\n",
       "      <td>None</td>\n",
       "      <td>Methodist</td>\n",
       "    </tr>\n",
       "    <tr>\n",
       "      <th>8023</th>\n",
       "      <td>15</td>\n",
       "      <td>Johnson Drive</td>\n",
       "      <td>Shane</td>\n",
       "      <td>Turner</td>\n",
       "      <td>101</td>\n",
       "      <td>Head</td>\n",
       "      <td>Married</td>\n",
       "      <td>Male</td>\n",
       "      <td>Retired Musician</td>\n",
       "      <td>None</td>\n",
       "      <td>Christian</td>\n",
       "    </tr>\n",
       "    <tr>\n",
       "      <th>8636</th>\n",
       "      <td>4</td>\n",
       "      <td>Parrot Drive</td>\n",
       "      <td>Joseph</td>\n",
       "      <td>Williams</td>\n",
       "      <td>99</td>\n",
       "      <td>Head</td>\n",
       "      <td>Married</td>\n",
       "      <td>Male</td>\n",
       "      <td>Retired Forensic scientist</td>\n",
       "      <td>None</td>\n",
       "      <td>Muslim</td>\n",
       "    </tr>\n",
       "    <tr>\n",
       "      <th>9068</th>\n",
       "      <td>7</td>\n",
       "      <td>Lunar Ways</td>\n",
       "      <td>Patricia</td>\n",
       "      <td>Webb</td>\n",
       "      <td>103</td>\n",
       "      <td>Head</td>\n",
       "      <td>Widowed</td>\n",
       "      <td>Female</td>\n",
       "      <td>Retired Conference centre manager</td>\n",
       "      <td>None</td>\n",
       "      <td>Christian</td>\n",
       "    </tr>\n",
       "    <tr>\n",
       "      <th>9727</th>\n",
       "      <td>15</td>\n",
       "      <td>Lavendar Hollow</td>\n",
       "      <td>Kelly</td>\n",
       "      <td>Gregory</td>\n",
       "      <td>101</td>\n",
       "      <td>Head</td>\n",
       "      <td>Widowed</td>\n",
       "      <td>Female</td>\n",
       "      <td>Retired Location manager</td>\n",
       "      <td>None</td>\n",
       "      <td>None</td>\n",
       "    </tr>\n",
       "    <tr>\n",
       "      <th>9802</th>\n",
       "      <td>6</td>\n",
       "      <td>Jones Street</td>\n",
       "      <td>Kevin</td>\n",
       "      <td>Dodd</td>\n",
       "      <td>104</td>\n",
       "      <td>Head</td>\n",
       "      <td>Widowed</td>\n",
       "      <td>Male</td>\n",
       "      <td>Retired Site engineer</td>\n",
       "      <td>None</td>\n",
       "      <td>Methodist</td>\n",
       "    </tr>\n",
       "    <tr>\n",
       "      <th>10037</th>\n",
       "      <td>1</td>\n",
       "      <td>Manchester Spire</td>\n",
       "      <td>Fiona</td>\n",
       "      <td>Kelly</td>\n",
       "      <td>105</td>\n",
       "      <td>Head</td>\n",
       "      <td>Single</td>\n",
       "      <td>Female</td>\n",
       "      <td>Retired Engineer, structural</td>\n",
       "      <td>None</td>\n",
       "      <td>Christian</td>\n",
       "    </tr>\n",
       "    <tr>\n",
       "      <th>10038</th>\n",
       "      <td>1</td>\n",
       "      <td>Manchester Spire</td>\n",
       "      <td>Joshua</td>\n",
       "      <td>Godfrey</td>\n",
       "      <td>111</td>\n",
       "      <td>Partner</td>\n",
       "      <td>Single</td>\n",
       "      <td>Male</td>\n",
       "      <td>Retired Child psychotherapist</td>\n",
       "      <td>None</td>\n",
       "      <td>Christian</td>\n",
       "    </tr>\n",
       "  </tbody>\n",
       "</table>\n",
       "</div>"
      ],
      "text/plain": [
       "       House Number                  Street First Name    Surname  Age  \\\n",
       "307              58          Andrews Avenue  Catherine    Griffin  102   \n",
       "1709             59         O'Brien Gateway      Ricky     Thomas  101   \n",
       "1710             59         O'Brien Gateway    Vanessa     Thomas  104   \n",
       "1884             24  ExcaliburBells Heights     Samuel  Griffiths  100   \n",
       "2341             56        Lightning Street      Carly     Mistry  104   \n",
       "2342             56        Lightning Street    Malcolm     Mistry  105   \n",
       "4169             47           Shepherd Cove      Abbie      Scott  103   \n",
       "4826            154           Shepherd Cove      Jodie       Daly  108   \n",
       "4827            154           Shepherd Cove     Leslie       Daly  108   \n",
       "5913            167        September Street      Harry      James   99   \n",
       "6912             26            Hobbs Branch    Cameron     Wilson  100   \n",
       "7371             16           Oxford Avenue      Nigel    Stewart  102   \n",
       "8023             15           Johnson Drive      Shane     Turner  101   \n",
       "8636              4            Parrot Drive     Joseph   Williams   99   \n",
       "9068              7              Lunar Ways   Patricia       Webb  103   \n",
       "9727             15         Lavendar Hollow      Kelly    Gregory  101   \n",
       "9802              6            Jones Street      Kevin       Dodd  104   \n",
       "10037             1        Manchester Spire      Fiona      Kelly  105   \n",
       "10038             1        Manchester Spire     Joshua    Godfrey  111   \n",
       "\n",
       "      Relationship to Head of House Marital Status  Gender  \\\n",
       "307                            Head        Widowed  Female   \n",
       "1709                           Head        Married    Male   \n",
       "1710                           Wife        Married  Female   \n",
       "1884                        Husband        Married    Male   \n",
       "2341                           Head        Married  Female   \n",
       "2342                        Husband        Married    Male   \n",
       "4169                           Head         Single  Female   \n",
       "4826                           Head        Married  Female   \n",
       "4827                        Husband        Married    Male   \n",
       "5913                        Husband        Married    Male   \n",
       "6912                        Husband        Married    Male   \n",
       "7371                           Head        Married    Male   \n",
       "8023                           Head        Married    Male   \n",
       "8636                           Head        Married    Male   \n",
       "9068                           Head        Widowed  Female   \n",
       "9727                           Head        Widowed  Female   \n",
       "9802                           Head        Widowed    Male   \n",
       "10037                          Head         Single  Female   \n",
       "10038                       Partner         Single    Male   \n",
       "\n",
       "                                              Occupation Infirmity   Religion  \n",
       "307                           Retired Editor, film/video      None  Christian  \n",
       "1709                                Retired Immunologist      None  Christian  \n",
       "1710                Retired Garment/textile technologist      None  Methodist  \n",
       "1884                         Retired Electrical engineer      None       None  \n",
       "2341                          Retired Personal assistant      None  Christian  \n",
       "2342                        Retired Intelligence analyst      None       None  \n",
       "4169                           Retired Film/video editor      None       None  \n",
       "4826                           Retired Minerals surveyor      None  Christian  \n",
       "4827                         Retired Designer, furniture      None  Christian  \n",
       "5913                              Retired Chief of Staff      None  Christian  \n",
       "6912                      Retired Engineer, aeronautical      None       None  \n",
       "7371   Retired Armed forces logistics/support/adminis...      None  Methodist  \n",
       "8023                                    Retired Musician      None  Christian  \n",
       "8636                          Retired Forensic scientist      None     Muslim  \n",
       "9068                   Retired Conference centre manager      None  Christian  \n",
       "9727                            Retired Location manager      None       None  \n",
       "9802                               Retired Site engineer      None  Methodist  \n",
       "10037                       Retired Engineer, structural      None  Christian  \n",
       "10038                      Retired Child psychotherapist      None  Christian  "
      ]
     },
     "execution_count": 15,
     "metadata": {},
     "output_type": "execute_result"
    }
   ],
   "source": [
    "q1 = census[\"Age\"].quantile(0.25)\n",
    "q3 = census[\"Age\"].quantile(0.75)\n",
    "iqr = q3 - q1\n",
    "\n",
    "# Define the lower and upper bounds for outliers using the IQR method\n",
    "lower_bound = q1 - 1.5 * iqr\n",
    "upper_bound = q3 + 1.5 * iqr\n",
    "\n",
    "# Identify the outliers in the \"age\" column\n",
    "outliers = census[(census[\"Age\"] < lower_bound) | (census[\"Age\"] > upper_bound)]\n",
    "outliers_df = pd.DataFrame(outliers)\n",
    "\n",
    "# Display the outliers\n",
    "outliers_df"
   ]
  },
  {
   "cell_type": "markdown",
   "id": "c68054e1",
   "metadata": {},
   "source": [
    "Bivariate analysis was introduced for the cleaning of the marital status column, ascertaining the validity of the entries in the column is dependent on some other columns such as the Age column. In the Marital status column, individuals under 18 mostly had none filled in, except two who were single and one aged 16 who was married. Further analysis of the column revealed that the individual who was married at 16 was a female student. According to Citizens Advice (2021), \"In England, Wales and Northern Ireland, you can get married at 16 or 17 if you have parental consent. Otherwise, you have to wait until you are 18\" (para. 1).\n",
    "This column wasn't dropped on this basis. More cleaning was still done in the marital status column with regards the individuals that were widowed below certain age brackets. In a study published in the journal, Women and Ageing, the study demonstrates that widowhood can occur at any age and that the experience of being a widow is not limited to a specific age group(Kemp, C. L., & Lewis, J. (2010)). The rows where individuals that were widowed appeared too young weren't dropped.\n",
    "\n"
   ]
  },
  {
   "cell_type": "code",
   "execution_count": 16,
   "id": "ccd5d3a8",
   "metadata": {},
   "outputs": [
    {
     "data": {
      "image/png": "[encoded data removed]",
      "text/plain": [
       "<Figure size 1400x1000 with 1 Axes>"
      ]
     },
     "metadata": {},
     "output_type": "display_data"
    }
   ],
   "source": [
    "# Create a box plot of marital status\n",
    "plt.figure(figsize=(14,10))\n",
    "sb.boxplot(x='Marital Status', y='Age', data= census)\n",
    "plt.title('Marital Status by Age')\n",
    "plt.xlabel('Marital Status')\n",
    "plt.ylabel('Age')\n",
    "plt.show()"
   ]
  },
  {
   "cell_type": "code",
   "execution_count": null,
   "id": "b2279859",
   "metadata": {},
   "outputs": [],
   "source": []
  },
  {
   "cell_type": "markdown",
   "id": "0e02902a",
   "metadata": {},
   "source": [
    "The occupation column had a lot of unique values so a simpler column was extracted for ease of analysis. The Employment status column was extracted from the occupation column. It had only five unique values,'Retired','unemployed','employed','university student' and student(child). The values described individuals who have retired, individuals who are unemployed, those who are employed, university stdents and students who are still children respectively. It was noted during the analysis that some individuals above 65 has entries of unemployed in their occupation column. According to Munnell and Sass (2018), \"the UK government has been gradually increasing the state pension age for both men and women, with the aim of equalizing the retirement age. The book explains that the state pension age is currently 66 for both men and women born on or after April 6, 1954, and that it is gradually increasing for those born before that date.\" (p. XX). Based on that, the entries of the individuals above 65 were changed to 'Retired'"
   ]
  },
  {
   "cell_type": "markdown",
   "id": "51342d53",
   "metadata": {},
   "source": [
    "After the data was cleaned, the finalized census data had the following features"
   ]
  },
  {
   "cell_type": "code",
   "execution_count": 27,
   "id": "3643b14d",
   "metadata": {},
   "outputs": [
    {
     "name": "stdout",
     "output_type": "stream",
     "text": [
      "<class 'pandas.core.frame.DataFrame'>\n",
      "RangeIndex: 9938 entries, 0 to 9937\n",
      "Data columns (total 16 columns):\n",
      " #   Column                         Non-Null Count  Dtype \n",
      "---  ------                         --------------  ----- \n",
      " 0   House Number                   9938 non-null   int64 \n",
      " 1   Street                         9938 non-null   object\n",
      " 2   First Name                     9938 non-null   object\n",
      " 3   Surname                        9938 non-null   object\n",
      " 4   Age                            9938 non-null   int64 \n",
      " 5   Relationship to Head of House  9938 non-null   object\n",
      " 6   Marital Status                 9938 non-null   object\n",
      " 7   Gender                         9938 non-null   object\n",
      " 8   Occupation                     9938 non-null   object\n",
      " 9   Infirmity                      9938 non-null   object\n",
      " 10  Religion                       9938 non-null   object\n",
      " 11  Age Band                       9938 non-null   object\n",
      " 12  Address                        9938 non-null   object\n",
      " 13  Household ID                   9938 non-null   int64 \n",
      " 14  Household Occupancy            9938 non-null   int64 \n",
      " 15  Employment status              9938 non-null   object\n",
      "dtypes: int64(4), object(12)\n",
      "memory usage: 1.2+ MB\n"
     ]
    }
   ],
   "source": [
    "censuss.info()"
   ]
  },
  {
   "cell_type": "markdown",
   "id": "70da3d5a",
   "metadata": {},
   "source": [
    "To aid the analysis, 5 additional columns were added to the dataset. They include:\n",
    "    1. The age band : consists of age values placed into 5-year age bands for population pyramid\n",
    "    2. Address: This helped in extracting the housing Id column\n",
    "    3. House hold ID: Consists of unique identification of each household\n",
    "    4. Household Occupancy: Consists of the number of individuals in a household\n",
    "    5. Employment Status: The employment status of the individual, was extracted from the occupation column\n",
    "    "
   ]
  },
  {
   "cell_type": "markdown",
   "id": "b69cbaf7",
   "metadata": {},
   "source": [
    "Summary statistics"
   ]
  },
  {
   "cell_type": "code",
   "execution_count": 30,
   "id": "92c9a6f9",
   "metadata": {},
   "outputs": [
    {
     "data": {
      "text/html": [
       "<div>\n",
       "<style scoped>\n",
       "    .dataframe tbody tr th:only-of-type {\n",
       "        vertical-align: middle;\n",
       "    }\n",
       "\n",
       "    .dataframe tbody tr th {\n",
       "        vertical-align: top;\n",
       "    }\n",
       "\n",
       "    .dataframe thead th {\n",
       "        text-align: right;\n",
       "    }\n",
       "</style>\n",
       "<table border=\"1\" class=\"dataframe\">\n",
       "  <thead>\n",
       "    <tr style=\"text-align: right;\">\n",
       "      <th></th>\n",
       "      <th>House Number</th>\n",
       "      <th>Age</th>\n",
       "      <th>Household ID</th>\n",
       "      <th>Household Occupancy</th>\n",
       "    </tr>\n",
       "  </thead>\n",
       "  <tbody>\n",
       "    <tr>\n",
       "      <th>count</th>\n",
       "      <td>9938.000000</td>\n",
       "      <td>9938.000000</td>\n",
       "      <td>9938.000000</td>\n",
       "      <td>9938.000000</td>\n",
       "    </tr>\n",
       "    <tr>\n",
       "      <th>mean</th>\n",
       "      <td>46.725297</td>\n",
       "      <td>35.169350</td>\n",
       "      <td>1525.947676</td>\n",
       "      <td>5.019119</td>\n",
       "    </tr>\n",
       "    <tr>\n",
       "      <th>std</th>\n",
       "      <td>52.967568</td>\n",
       "      <td>21.264797</td>\n",
       "      <td>920.630353</td>\n",
       "      <td>3.804897</td>\n",
       "    </tr>\n",
       "    <tr>\n",
       "      <th>min</th>\n",
       "      <td>1.000000</td>\n",
       "      <td>1.000000</td>\n",
       "      <td>0.000000</td>\n",
       "      <td>1.000000</td>\n",
       "    </tr>\n",
       "    <tr>\n",
       "      <th>25%</th>\n",
       "      <td>11.000000</td>\n",
       "      <td>18.000000</td>\n",
       "      <td>723.250000</td>\n",
       "      <td>3.000000</td>\n",
       "    </tr>\n",
       "    <tr>\n",
       "      <th>50%</th>\n",
       "      <td>25.000000</td>\n",
       "      <td>34.000000</td>\n",
       "      <td>1476.500000</td>\n",
       "      <td>4.000000</td>\n",
       "    </tr>\n",
       "    <tr>\n",
       "      <th>75%</th>\n",
       "      <td>56.000000</td>\n",
       "      <td>50.000000</td>\n",
       "      <td>2348.000000</td>\n",
       "      <td>5.000000</td>\n",
       "    </tr>\n",
       "    <tr>\n",
       "      <th>max</th>\n",
       "      <td>229.000000</td>\n",
       "      <td>111.000000</td>\n",
       "      <td>3102.000000</td>\n",
       "      <td>22.000000</td>\n",
       "    </tr>\n",
       "  </tbody>\n",
       "</table>\n",
       "</div>"
      ],
      "text/plain": [
       "       House Number          Age  Household ID  Household Occupancy\n",
       "count   9938.000000  9938.000000   9938.000000          9938.000000\n",
       "mean      46.725297    35.169350   1525.947676             5.019119\n",
       "std       52.967568    21.264797    920.630353             3.804897\n",
       "min        1.000000     1.000000      0.000000             1.000000\n",
       "25%       11.000000    18.000000    723.250000             3.000000\n",
       "50%       25.000000    34.000000   1476.500000             4.000000\n",
       "75%       56.000000    50.000000   2348.000000             5.000000\n",
       "max      229.000000   111.000000   3102.000000            22.000000"
      ]
     },
     "execution_count": 30,
     "metadata": {},
     "output_type": "execute_result"
    }
   ],
   "source": [
    "censuss.describe()"
   ]
  },
  {
   "cell_type": "markdown",
   "id": "cca5fea8",
   "metadata": {},
   "source": [
    "## Population Pyramid"
   ]
  },
  {
   "cell_type": "code",
   "execution_count": 47,
   "id": "dc6131fd",
   "metadata": {},
   "outputs": [
    {
     "data": {
      "image/png": "[encoded data removed]",
      "text/plain": [
       "<Figure size 640x480 with 1 Axes>"
      ]
     },
     "metadata": {},
     "output_type": "display_data"
    }
   ],
   "source": [
    " #Create a new column called \"ID\" that combines \"First Name\", \"Surname\", and \"Age\"\n",
    "censuss['ID'] = censuss['First Name'] + censuss['Surname'] + censuss['Age'].astype(str)\n",
    "\n",
    "# Create a pivot table to group the data by gender and age band\n",
    "pivot_table = pd.pivot_table(censuss, values='ID', index=['Age Band'], columns=['Gender'], aggfunc=pd.Series.nunique)\n",
    "pivot_table = pivot_table.sort_index(ascending=True)\n",
    "\n",
    "# Create the population pyramid\n",
    "\n",
    "fig, ax = plt.subplots()\n",
    "ax.barh(pivot_table.index, pivot_table['Male'], align='center', color='royalblue', label='Male')\n",
    "ax.barh(pivot_table.index, -pivot_table['Female'], align='center', color='tomato', label='Female')\n",
    "ax.set_xlabel('Population Count')\n",
    "ax.set_ylabel('Age Band')\n",
    "ax.set_title('Population Pyramid')\n",
    "ax.legend()\n",
    "plt.show()\n"
   ]
  },
  {
   "cell_type": "markdown",
   "id": "5d889a59",
   "metadata": {},
   "source": [
    "Analysing the population pyramid, the structure of the population pyramid shows a slightly lower number of \n",
    "young people compared to middle-aged, especially those aged 0-4, suggesting a low birth rate. The \n",
    "population also tends to live well into old age, for both male and female. The individuals between the 35-39 age band have the highest density, meaning the individuals between 35 and 39 are the largest with a very good balance for the male and female.\n",
    "it can be clearly inferred from the population pyramid that male and female individuals in this town are almost balanced with insignificant difference"
   ]
  },
  {
   "cell_type": "markdown",
   "id": "076b76b6",
   "metadata": {},
   "source": [
    "# Further Analysis\n"
   ]
  },
  {
   "cell_type": "markdown",
   "id": "1d66f537",
   "metadata": {},
   "source": [
    "Further examination of the population pyramid which clearly shows the age distribution and also shows a relative growth in the population. The width of the bottom bar shows an estimate of the the birth rate and the width of the top bar shows an estimate of the death rate. Comparing these two estimates, the bottom bar and the top bar, the population has a relative growth and there are more young people than retired aged people. The crude birth rate and death rate can be determined in further sections"
   ]
  },
  {
   "cell_type": "markdown",
   "id": "1264eca1",
   "metadata": {},
   "source": [
    "The unemployment and employment chart below infers that higher percentage of unemployed individuals are the young people, but in comparison to the employment status of the entire town, there are more employed individuals than unemployed in the town."
   ]
  },
  {
   "cell_type": "markdown",
   "id": "0b52efaa",
   "metadata": {},
   "source": [
    "## Employment and unemployment chart"
   ]
  },
  {
   "cell_type": "code",
   "execution_count": 59,
   "id": "88a73646",
   "metadata": {},
   "outputs": [
    {
     "data": {
      "image/png": "[encoded data removed]",
      "text/plain": [
       "<Figure size 1600x600 with 2 Axes>"
      ]
     },
     "metadata": {},
     "output_type": "display_data"
    }
   ],
   "source": [
    "# Create a new dataframe for employed individuals\n",
    "employed = censuss[censuss['Employment status'] == 'Employed']\n",
    "employed_count = employed.groupby('Age Band')['Employment status'].count()\n",
    "\n",
    "# Create a new dataframe for unemployed individuals\n",
    "unemployed = censuss[censuss['Employment status'] == 'Unemployed']\n",
    "unemployed_count = unemployed.groupby('Age Band')['Employment status'].count()\n",
    "\n",
    "# Create subplots for both charts\n",
    "fig, (ax1, ax2) = plt.subplots(1, 2, figsize=(16,6))\n",
    "\n",
    "# Plot employed individuals\n",
    "ax1.bar(employed_count.index, employed_count.values, color='green')\n",
    "ax1.set_xlabel('Age Band')\n",
    "ax1.set_ylabel('Number of Employed Individuals')\n",
    "ax1.set_title('Employment by Age Band')\n",
    "\n",
    "# Plot unemployed individuals\n",
    "ax2.bar(unemployed_count.index, unemployed_count.values, color='skyblue')\n",
    "ax2.set_xlabel('Age Band')\n",
    "ax2.set_ylabel('Number of Unemployed Individuals')\n",
    "ax2.set_title('Unemployment by Age Band')\n",
    "\n",
    "# Rotate xticks in both subplots\n",
    "for ax in (ax1, ax2):\n",
    "    ax.tick_params(axis='x', labelrotation=90)\n",
    "\n",
    "plt.show()\n"
   ]
  },
  {
   "cell_type": "markdown",
   "id": "b5e8cb0e",
   "metadata": {},
   "source": [
    "## Religious Affiliations"
   ]
  },
  {
   "cell_type": "markdown",
   "id": "850308df",
   "metadata": {},
   "source": [
    "Analysing the religious affilations, most individuals have no religion and others who have, identify more as christians than other religions in the town. From the chart in the corresponding notebook, the jewish, sikh and muslim religion have very little population relatively. Christians being the largest among the individuals who have a religion is not unusual, according to the 2011 Census, the largest religious group in the UK was Christianity, accounting for approximately 59% of the population. The second largest religious group was Islam, accounting for approximately 5% of the population. Hinduism, Sikhism, Judaism, and Buddhism accounted for smaller proportions of the population, with each religion accounting for less than 1% of the population.\n",
    "    Also, acccording to Voas and Crockett (2005), \"Christianity is still the dominant religious tradition in Britain, and it continues to provide the principal cultural referent for most people, even those who no longer attend church\" (p. 14) Voas explains that most people no longer identify with a religion but those who do, are majorly christians, this was clearly seen in this analysis."
   ]
  },
  {
   "cell_type": "markdown",
   "id": "fe5fbdd0",
   "metadata": {},
   "source": [
    "## Marriage and divorce rate"
   ]
  },
  {
   "cell_type": "markdown",
   "id": "20c28878",
   "metadata": {},
   "source": [
    "Examining the divorce and marriage rate, male and female individuals between the ages of 95-99 had the highest percentage for marraige rate while males between 25 and 19 and females between 35 and 39 had the highest percentage of divorce rates.\n",
    "According to a study by Kuhn and Lagemann (2019), the impact of divorce rates on housing can have significant economic implications. They found that divorce not only affects the housing market through the decrease in demand for housing, but it also impacts household finances and stability, which can lead to long-term economic consequences. Generally, in this town the marriage rates are higher than the divorce rates. The computation was done in the corresponding notebook."
   ]
  },
  {
   "cell_type": "markdown",
   "id": "32beb1b7",
   "metadata": {},
   "source": [
    "## Occupancy Level\n"
   ]
  },
  {
   "cell_type": "markdown",
   "id": "bbe557ae",
   "metadata": {},
   "source": [
    "Analysing the occupancy level of the town, most households had maximum of 5 individuals living in the dwelling and about 20 households had 22 individuals living in them. However, There is no specific recommended occupancy level for the UK as it varies depending on factors such as the type of dwelling, the number of bedrooms, and the age and relationship of the occupants. However, there are some general guidelines and regulations that aim to ensure a minimum level of living space and amenities for occupants, such as the Housing Health and Safety Rating System (HHSRS) and the Decent Homes Standard. These standards set out criteria for issues such as overcrowding, minimum room sizes, and access to basic amenities such as heating, hot water, and sanitation.\n"
   ]
  },
  {
   "cell_type": "markdown",
   "id": "9fa05051",
   "metadata": {},
   "source": [
    "## Commuters"
   ]
  },
  {
   "cell_type": "markdown",
   "id": "1fdea40d",
   "metadata": {},
   "source": [
    "Commuters simply envelope people that move around the town or move to another town to carry out their activities regularly, it could be weekly or daily. Certian professionals are likely to commute. \"Higher skilled occupations are generally associated with longer commuting distances, particularly professional and managerial occupations, while routine and manual occupations are associated with shorter distances and a greater reliance on local job opportunities\" (Morris & Catney, 2018, p. 55). These individuals include Doctors, Nurses,Teachers, Engineers,etc. Some non professionals, too such as sales Personnels, Market officers, construction workers and other occupations where the individuals are likely to move from place to place regularly. The occupation column was examined and the rows that contained this occupations were extracted. The university students are all commuters because there is no university in the town. These rows were extracted differently then concatenated to get the total value of commuters. In relation to the total population of the town, 16% of the towns population commute."
   ]
  },
  {
   "cell_type": "markdown",
   "id": "2229b8be",
   "metadata": {},
   "source": [
    "## Infirmity"
   ]
  },
  {
   "cell_type": "markdown",
   "id": "2da7186c",
   "metadata": {},
   "source": [
    "Only 0.7% of the towns population have infirmities.\n"
   ]
  },
  {
   "cell_type": "code",
   "execution_count": null,
   "id": "ba08e639",
   "metadata": {},
   "outputs": [],
   "source": []
  },
  {
   "cell_type": "markdown",
   "id": "5bcfbf8b",
   "metadata": {},
   "source": [
    "## Recommendations"
   ]
  },
  {
   "cell_type": "markdown",
   "id": "7ccf3f5c",
   "metadata": {},
   "source": [
    "Given the high marriage rate and occupancy rate, there is need to invest in high density houses. High marriage rate positively impacts housing, the need for more houses will greatly arise as the marriage continues to increase. Similarly, considering that 16% of the towns poplulation are commuters, a train station willl definitely take pressure off the road. These validate the need to potentially invest in high density houses and train stations. Religious buildings are not necessary because over 50% of the towns population do not identify with any religion."
   ]
  },
  {
   "cell_type": "markdown",
   "id": "73e4462f",
   "metadata": {},
   "source": [
    "Given the relatively fair rate of unemployment in the town, investing in re-training people for new skills is not priority, one the other hand a great density of the population lies in the middle aged population, this shows the arising need for old age care as they will be greatly needed in few years. The increasing numbers of the potentially retired people validates the need for potential investment in old age care\n"
   ]
  },
  {
   "cell_type": "markdown",
   "id": "e9dd8dba",
   "metadata": {},
   "source": [
    "Increase in spending for schooling is also warranted because the population of school aged children, the growing population of the school aged chidren validates the need for potential investment in schooling. Also, the fact that there is no university in the town is also brought into view, there is great need for a university in the town because of the growing population of the school aged children. Moreso, a very insignificant percentage of the population suffer from infirmities, this gives emergency health centres less priorities"
   ]
  },
  {
   "cell_type": "markdown",
   "id": "8b3abdcc",
   "metadata": {},
   "source": [
    "\n",
    "\n",
    "Biblography:\n",
    "\n",
    "(Citizens Advice, 2021).\"Minimum age to get married,\" Citizens Advice, last updated June 2021, https://www.citizensadvice.org.uk/family/living-together-marriage-and-civil-partnership/getting-married/minimum-age-to-get-married/\n",
    "\n",
    "Kemp, C. L., & Lewis, J. (2010). The experience of widowhood: Older women's voices. Journal of Women & Aging, 22(3), 175-192. https://doi.org/10.1080/08952841.2010.481824\n",
    "\n",
    "Office for National Statistics. (2012). 2011 Census: Key Statistics for Local Authorities in England and Wales. Retrieved from https://www.ons.gov.uk/file?uri=/census/2011census/keystatistics/localauthoritiesinenglandandwales/2013-01-30/ks209ewl.xls\n",
    "\n",
    "Voas, D., & Crockett, A. (2005). Religion in Britain: Neither Believing nor Belonging. Sociology, 39(1), 11-28.\n",
    "\n",
    "Kuhn, R., & Lagemann, E. (2019). The “Decline” of Education Schools: Its Significance for Educational Reform. Educational Researcher, 48(4), 191-203. doi: 10.3102/0013189X19835178\n",
    "\n",
    "Morris, E. A., & Catney, P. (2018). Commuting and occupational structure in the UK: 1971 to 2011. Journal of Transport Geography, 66, 54-62."
   ]
  },
  {
   "cell_type": "code",
   "execution_count": null,
   "id": "e2699ee2",
   "metadata": {},
   "outputs": [],
   "source": []
  },
  {
   "cell_type": "code",
   "execution_count": null,
   "id": "d31889ea",
   "metadata": {},
   "outputs": [],
   "source": []
  },
  {
   "cell_type": "code",
   "execution_count": null,
   "id": "14cb173a",
   "metadata": {},
   "outputs": [],
   "source": []
  },
  {
   "cell_type": "code",
   "execution_count": null,
   "id": "f1d79f07",
   "metadata": {},
   "outputs": [],
   "source": []
  },
  {
   "cell_type": "code",
   "execution_count": null,
   "id": "82d8ab43",
   "metadata": {},
   "outputs": [],
   "source": []
  }
 ],
 "metadata": {
  "kernelspec": {
   "display_name": "Python 3 (ipykernel)",
   "language": "python",
   "name": "python3"
  },
  "language_info": {
   "codemirror_mode": {
    "name": "ipython",
    "version": 3
   },
   "file_extension": ".py",
   "mimetype": "text/x-python",
   "name": "python",
   "nbconvert_exporter": "python",
   "pygments_lexer": "ipython3",
   "version": "3.9.13"
  }
 },
 "nbformat": 4,
 "nbformat_minor": 5
}
